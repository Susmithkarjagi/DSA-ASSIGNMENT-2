{
 "cells": [
  {
   "cell_type": "markdown",
   "id": "868e6c36-7bf7-4b54-bf9e-849976a6683e",
   "metadata": {},
   "source": [
    "# DSA ASSIGNMENT 8"
   ]
  },
  {
   "cell_type": "markdown",
   "id": "1bb4f111-f24e-4c02-8aba-827e08d6d076",
   "metadata": {},
   "source": [
    "<aside>\n",
    "💡 **Question 1**\n",
    "\n",
    "Given two strings s1 and s2, return *the lowest **ASCII** sum of deleted characters to make two strings equal*.\n",
    "\n",
    "**Example 1:**\n",
    "\n",
    "**Input:** s1 = \"sea\", s2 = \"eat\"\n",
    "\n",
    "**Output:** 231\n",
    "\n",
    "**Explanation:** Deleting \"s\" from \"sea\" adds the ASCII value of \"s\" (115) to the sum.\n",
    "\n",
    "Deleting \"t\" from \"eat\" adds 116 to the sum.\n",
    "\n",
    "At the end, both strings are equal, and 115 + 116 = 231 is the minimum sum possible to achieve this.\n",
    "\n",
    "</aside>"
   ]
  },
  {
   "cell_type": "code",
   "execution_count": 1,
   "id": "9a4f4d74-a86c-42a8-a0d8-d69205127a26",
   "metadata": {},
   "outputs": [
    {
     "name": "stdout",
     "output_type": "stream",
     "text": [
      "231\n"
     ]
    }
   ],
   "source": [
    "def minimumDeleteSum(s1, s2):\n",
    "    m, n = len(s1), len(s2)\n",
    "    dp = [[0] * (n + 1) for _ in range(m + 1)]\n",
    "\n",
    "    # Fill the base cases\n",
    "    for i in range(m - 1, -1, -1):\n",
    "        dp[i][n] = dp[i+1][n] + ord(s1[i])\n",
    "    for j in range(n - 1, -1, -1):\n",
    "        dp[m][j] = dp[m][j+1] + ord(s2[j])\n",
    "\n",
    "    # Fill the dp array\n",
    "    for i in range(m - 1, -1, -1):\n",
    "        for j in range(n - 1, -1, -1):\n",
    "            if s1[i] == s2[j]:\n",
    "                dp[i][j] = dp[i+1][j+1]\n",
    "            else:\n",
    "                dp[i][j] = min(dp[i+1][j] + ord(s1[i]), dp[i][j+1] + ord(s2[j]))\n",
    "\n",
    "    return dp[0][0]\n",
    "\n",
    "# Example usage\n",
    "s1 = \"sea\"\n",
    "s2 = \"eat\"\n",
    "print(minimumDeleteSum(s1, s2))\n"
   ]
  },
  {
   "cell_type": "code",
   "execution_count": null,
   "id": "f6d7b366-3b73-4f57-a926-854fa485ad25",
   "metadata": {},
   "outputs": [],
   "source": []
  },
  {
   "cell_type": "markdown",
   "id": "5bcfc093-5a60-4e74-86b1-b2d52f2242cf",
   "metadata": {},
   "source": [
    "<aside>\n",
    "💡 **Question 2**\n",
    "\n",
    "Given a string s containing only three types of characters: '(', ')' and '*', return true *if* s *is **valid***.\n",
    "\n",
    "The following rules define a **valid** string:\n",
    "\n",
    "- Any left parenthesis '(' must have a corresponding right parenthesis ')'.\n",
    "- Any right parenthesis ')' must have a corresponding left parenthesis '('.\n",
    "- Left parenthesis '(' must go before the corresponding right parenthesis ')'.\n",
    "- '*' could be treated as a single right parenthesis ')' or a single left parenthesis '(' or an empty string \"\".\n",
    "\n",
    "**Example 1:**\n",
    "\n",
    "**Input:** s = \"()\"\n",
    "\n",
    "**Output:**\n",
    "\n",
    "true\n",
    "\n",
    "</aside>"
   ]
  },
  {
   "cell_type": "code",
   "execution_count": 2,
   "id": "0217f3a9-175b-4e47-beaf-20e7cd4dafe5",
   "metadata": {},
   "outputs": [
    {
     "name": "stdout",
     "output_type": "stream",
     "text": [
      "True\n"
     ]
    }
   ],
   "source": [
    "def isValid(s):\n",
    "    stack = []\n",
    "    asterisks = 0\n",
    "\n",
    "    for char in s:\n",
    "        if char == '(':\n",
    "            stack.append(char)\n",
    "        elif char == ')':\n",
    "            if stack:\n",
    "                stack.pop()\n",
    "            elif asterisks > 0:\n",
    "                asterisks -= 1\n",
    "            else:\n",
    "                return False\n",
    "        elif char == '*':\n",
    "            asterisks += 1\n",
    "\n",
    "    while stack and asterisks > 0:\n",
    "        stack.pop()\n",
    "        asterisks -= 1\n",
    "\n",
    "    return len(stack) == 0\n",
    "\n",
    "# Example usage\n",
    "s = \"()\"\n",
    "print(isValid(s))\n"
   ]
  },
  {
   "cell_type": "code",
   "execution_count": null,
   "id": "49475937-61bc-407e-9bb6-7335c07f0e42",
   "metadata": {},
   "outputs": [],
   "source": []
  },
  {
   "cell_type": "markdown",
   "id": "1a61ff1a-7f2f-4492-b9ed-22cd5d242304",
   "metadata": {},
   "source": [
    "<aside>\n",
    "💡 **Question 3**\n",
    "\n",
    "Given two strings word1 and word2, return *the minimum number of **steps** required to make* word1 *and* word2 *the same*.\n",
    "\n",
    "In one **step**, you can delete exactly one character in either string.\n",
    "\n",
    "**Example 1:**\n",
    "\n",
    "**Input:** word1 = \"sea\", word2 = \"eat\"\n",
    "\n",
    "**Output:** 2\n",
    "\n",
    "**Explanation:** You need one step to make \"sea\" to \"ea\" and another step to make \"eat\" to \"ea\".\n",
    "\n",
    "</aside>"
   ]
  },
  {
   "cell_type": "code",
   "execution_count": 3,
   "id": "78c9fc87-9657-42a2-91df-c505d9c96dff",
   "metadata": {},
   "outputs": [
    {
     "name": "stdout",
     "output_type": "stream",
     "text": [
      "2\n"
     ]
    }
   ],
   "source": [
    "def minDistance(word1, word2):\n",
    "    m, n = len(word1), len(word2)\n",
    "    dp = [[0] * (n + 1) for _ in range(m + 1)]\n",
    "\n",
    "    # Fill the base cases\n",
    "    for i in range(m - 1, -1, -1):\n",
    "        dp[i][n] = dp[i+1][n] + 1\n",
    "    for j in range(n - 1, -1, -1):\n",
    "        dp[m][j] = dp[m][j+1] + 1\n",
    "\n",
    "    # Fill the dp array\n",
    "    for i in range(m - 1, -1, -1):\n",
    "        for j in range(n - 1, -1, -1):\n",
    "            if word1[i] == word2[j]:\n",
    "                dp[i][j] = dp[i+1][j+1]\n",
    "            else:\n",
    "                dp[i][j] = min(dp[i+1][j] + 1, dp[i][j+1] + 1)\n",
    "\n",
    "    return dp[0][0]\n",
    "\n",
    "# Example usage\n",
    "word1 = \"sea\"\n",
    "word2 = \"eat\"\n",
    "print(minDistance(word1, word2))\n"
   ]
  },
  {
   "cell_type": "code",
   "execution_count": null,
   "id": "36ddd924-249d-4941-8d22-602166218342",
   "metadata": {},
   "outputs": [],
   "source": []
  },
  {
   "cell_type": "markdown",
   "id": "aaed981e-082f-4454-88b9-9dd5f29896c3",
   "metadata": {},
   "source": [
    "<aside>\n",
    "💡 **Question 4**\n",
    "\n",
    "You need to construct a binary tree from a string consisting of parenthesis and integers.\n",
    "\n",
    "The whole input represents a binary tree. It contains an integer followed by zero, one or two pairs of parenthesis. The integer represents the root's value and a pair of parenthesis contains a child binary tree with the same structure.\n",
    "You always start to construct the **left** child node of the parent first if it exists.\n",
    "\n",
    "</aside>"
   ]
  },
  {
   "cell_type": "markdown",
   "id": "77d7002c-fa83-4a2b-a1f1-da4bb2469651",
   "metadata": {},
   "source": [
    "**Input:** s = \"4(2(3)(1))(6(5))\"\n",
    "\n",
    "**Output:** [4,2,6,3,1,5]"
   ]
  },
  {
   "cell_type": "code",
   "execution_count": 6,
   "id": "bd5db26c-ce38-428c-92a3-5f2f5f23a054",
   "metadata": {},
   "outputs": [
    {
     "name": "stdout",
     "output_type": "stream",
     "text": [
      "[3, 2, 1, 4, 5, 6]\n"
     ]
    }
   ],
   "source": [
    "class TreeNode:\n",
    "    def __init__(self, val=0, left=None, right=None):\n",
    "        self.val = val\n",
    "        self.left = left\n",
    "        self.right = right\n",
    "\n",
    "\n",
    "def constructTree(s):\n",
    "    if not s:\n",
    "        return None\n",
    "\n",
    "    # Find the index of the first opening parenthesis\n",
    "    idx = s.find('(')\n",
    "\n",
    "    if idx == -1:\n",
    "       \n",
    "        return TreeNode(int(s))\n",
    "\n",
    "    root_val = int(s[:idx])\n",
    "    root = TreeNode(root_val)\n",
    "\n",
    "    count = 0\n",
    "    left_start = idx\n",
    "    for i in range(idx, len(s)):\n",
    "        if s[i] == '(':\n",
    "            count += 1\n",
    "        elif s[i] == ')':\n",
    "            count -= 1\n",
    "\n",
    "        if count == 0 and left_start == idx:\n",
    "            left_end = i\n",
    "            break\n",
    "\n",
    "    left_subtree = s[left_start+1:left_end]\n",
    "    right_subtree = s[left_end+2:-1] if left_end + 2 < len(s) - 1 else ''\n",
    "\n",
    "    root.left = constructTree(left_subtree)\n",
    "    root.right = constructTree(right_subtree)\n",
    "\n",
    "    return root\n",
    "\n",
    "\n",
    "def inorderTraversal(root):\n",
    "    if root is None:\n",
    "        return []\n",
    "\n",
    "    result = []\n",
    "    stack = []\n",
    "    current = root\n",
    "\n",
    "    while current or stack:\n",
    "        while current:\n",
    "            stack.append(current)\n",
    "            current = current.left\n",
    "\n",
    "        current = stack.pop()\n",
    "        result.append(current.val)\n",
    "        current = current.right\n",
    "\n",
    "    return result\n",
    "\n",
    "s = \"4(2(3)(1))(6(5))\"\n",
    "root = constructTree(s)\n",
    "result = inorderTraversal(root)\n",
    "print(result)\n"
   ]
  },
  {
   "cell_type": "code",
   "execution_count": null,
   "id": "b64b7d20-d805-431c-8cf5-3952de9d1829",
   "metadata": {},
   "outputs": [],
   "source": []
  },
  {
   "cell_type": "markdown",
   "id": "1f8984fb-fb33-4e99-82bc-f2c4c121baa4",
   "metadata": {},
   "source": [
    "<aside>\n",
    "💡 **Question 5**\n",
    "\n",
    "Given an array of characters chars, compress it using the following algorithm:\n",
    "\n",
    "Begin with an empty string s. For each group of **consecutive repeating characters** in chars:\n",
    "\n",
    "- If the group's length is 1, append the character to s.\n",
    "- Otherwise, append the character followed by the group's length.\n",
    "\n",
    "The compressed string s **should not be returned separately**, but instead, be stored **in the input character array chars**. Note that group lengths that are 10 or longer will be split into multiple characters in chars.\n",
    "\n",
    "After you are done **modifying the input array,** return *the new length of the array*.\n",
    "\n",
    "You must write an algorithm that uses only constant extra space.\n",
    "\n",
    "**Example 1:**\n",
    "\n",
    "**Input:** chars = [\"a\",\"a\",\"b\",\"b\",\"c\",\"c\",\"c\"]\n",
    "\n",
    "**Output:** Return 6, and the first 6 characters of the input array should be: [\"a\",\"2\",\"b\",\"2\",\"c\",\"3\"]\n",
    "\n",
    "**Explanation:**\n",
    "\n",
    "The groups are \"aa\", \"bb\", and \"ccc\". This compresses to \"a2b2c3\".\n",
    "\n",
    "</aside>"
   ]
  },
  {
   "cell_type": "code",
   "execution_count": 7,
   "id": "e6ecb043-cd43-48ef-92f6-a5a8938c0d16",
   "metadata": {},
   "outputs": [
    {
     "name": "stdout",
     "output_type": "stream",
     "text": [
      "6\n",
      "['a', '2', 'b', '2', 'c', '3']\n"
     ]
    }
   ],
   "source": [
    "def compress(chars):\n",
    "    read = 0\n",
    "    write = 0\n",
    "\n",
    "    while read < len(chars):\n",
    "        start = read\n",
    "        currChar = chars[read]\n",
    "        count = 0\n",
    "\n",
    "        while read < len(chars) and chars[read] == currChar:\n",
    "            read += 1\n",
    "            count += 1\n",
    "\n",
    "        chars[write] = currChar\n",
    "        write += 1\n",
    "\n",
    "        if count > 1:\n",
    "            countStr = str(count)\n",
    "            for digit in countStr:\n",
    "                chars[write] = digit\n",
    "                write += 1\n",
    "\n",
    "    return write\n",
    "\n",
    "\n",
    "# Example usage\n",
    "chars = [\"a\", \"a\", \"b\", \"b\", \"c\", \"c\", \"c\"]\n",
    "newLength = compress(chars)\n",
    "print(newLength)\n",
    "print(chars[:newLength])\n"
   ]
  },
  {
   "cell_type": "code",
   "execution_count": null,
   "id": "a5583b64-ad85-40f3-9439-81864ba7049e",
   "metadata": {},
   "outputs": [],
   "source": []
  },
  {
   "cell_type": "markdown",
   "id": "59afc8f0-1418-4eb0-8796-5affacc38688",
   "metadata": {},
   "source": [
    "<aside>\n",
    "💡 **Question 6**\n",
    "\n",
    "Given two strings s and p, return *an array of all the start indices of* p*'s anagrams in* s. You may return the answer in **any order**.\n",
    "\n",
    "An **Anagram** is a word or phrase formed by rearranging the letters of a different word or phrase, typically using all the original letters exactly once.\n",
    "\n",
    "**Example 1:**\n",
    "\n",
    "**Input:** s = \"cbaebabacd\", p = \"abc\"\n",
    "\n",
    "**Output:** [0,6]\n",
    "\n",
    "**Explanation:**\n",
    "\n",
    "The substring with start index = 0 is \"cba\", which is an anagram of \"abc\".\n",
    "\n",
    "The substring with start index = 6 is \"bac\", which is an anagram of \"abc\".\n",
    "\n",
    "</aside>"
   ]
  },
  {
   "cell_type": "code",
   "execution_count": 9,
   "id": "c0f594b7-4289-42a6-9af0-405fadcbbba5",
   "metadata": {},
   "outputs": [
    {
     "name": "stdout",
     "output_type": "stream",
     "text": [
      "[0, 6]\n"
     ]
    }
   ],
   "source": [
    "from collections import Counter\n",
    "\n",
    "def findAnagrams(s, p):\n",
    "    pCount = Counter(p)\n",
    "    windowCount = Counter()\n",
    "    result = []\n",
    "    left = 0\n",
    "    matchCount = 0\n",
    "\n",
    "    for right in range(len(s)):\n",
    "        windowCount[s[right]] += 1\n",
    "        if windowCount[s[right]] <= pCount[s[right]]:\n",
    "            matchCount += 1\n",
    "\n",
    "        if right - left + 1 == len(p):\n",
    "            if matchCount == len(p):\n",
    "                result.append(left)\n",
    "\n",
    "            if windowCount[s[left]] <= pCount[s[left]]:\n",
    "                matchCount -= 1\n",
    "            windowCount[s[left]] -= 1\n",
    "            if windowCount[s[left]] == 0:\n",
    "                del windowCount[s[left]]\n",
    "            left += 1\n",
    "\n",
    "    return result\n",
    "\n",
    "\n",
    "# Example usage\n",
    "s = \"cbaebabacd\"\n",
    "p = \"abc\"\n",
    "indices = findAnagrams(s, p)\n",
    "print(indices)\n"
   ]
  },
  {
   "cell_type": "code",
   "execution_count": null,
   "id": "f3fd0b52-00f1-4ce3-ad6a-b9d2fba2dd27",
   "metadata": {},
   "outputs": [],
   "source": []
  },
  {
   "cell_type": "markdown",
   "id": "8cffe472-63b3-483e-b3d9-4ccc9afacdbc",
   "metadata": {},
   "source": [
    "<aside>\n",
    "💡 **Question 7**\n",
    "\n",
    "Given an encoded string, return its decoded string.\n",
    "\n",
    "The encoding rule is: k[encoded_string], where the encoded_string inside the square brackets is being repeated exactly k times. Note that k is guaranteed to be a positive integer.\n",
    "\n",
    "You may assume that the input string is always valid; there are no extra white spaces, square brackets are well-formed, etc. Furthermore, you may assume that the original data does not contain any digits and that digits are only for those repeat numbers, k. For example, there will not be input like 3a or 2[4].\n",
    "\n",
    "The test cases are generated so that the length of the output will never exceed 105.\n",
    "\n",
    "**Example 1:**\n",
    "\n",
    "**Input:** s = \"3[a]2[bc]\"\n",
    "\n",
    "**Output:** \"aaabcbc\"\n",
    "\n",
    "</aside>"
   ]
  },
  {
   "cell_type": "code",
   "execution_count": 11,
   "id": "f59231ba-3049-4cc6-a871-5bcda47646eb",
   "metadata": {
    "tags": []
   },
   "outputs": [
    {
     "name": "stdout",
     "output_type": "stream",
     "text": [
      "aaabcbc\n"
     ]
    }
   ],
   "source": [
    "def decodeString(s):\n",
    "    stack = []\n",
    "    currString = \"\"\n",
    "    currNum = 0\n",
    "\n",
    "    for char in s:\n",
    "        if char.isdigit():\n",
    "            currNum = currNum * 10 + int(char)\n",
    "        elif char.isalpha():\n",
    "            currString += char\n",
    "        elif char == \"[\":\n",
    "            stack.append(currString)\n",
    "            stack.append(currNum)\n",
    "            currString = \"\"\n",
    "            currNum = 0\n",
    "        elif char == \"]\":\n",
    "            prevNum = stack.pop()\n",
    "            prevString = stack.pop()\n",
    "            currString = prevString + prevNum * currString\n",
    "\n",
    "    return currString\n",
    "\n",
    "\n",
    "s = \"3[a]2[bc]\"\n",
    "decodedString = decodeString(s)\n",
    "print(decodedString)\n"
   ]
  },
  {
   "cell_type": "code",
   "execution_count": null,
   "id": "bfddfe44-8f16-4170-af95-b6cb4a8a488e",
   "metadata": {},
   "outputs": [],
   "source": []
  },
  {
   "cell_type": "markdown",
   "id": "7999d9b0-19de-472e-bb0d-5591928df3f1",
   "metadata": {},
   "source": [
    "<aside>\n",
    "💡 **Question 8**\n",
    "\n",
    "Given two strings s and goal, return true *if you can swap two letters in* s *so the result is equal to* goal*, otherwise, return* false*.*\n",
    "\n",
    "Swapping letters is defined as taking two indices i and j (0-indexed) such that i != j and swapping the characters at s[i] and s[j].\n",
    "\n",
    "- For example, swapping at indices 0 and 2 in \"abcd\" results in \"cbad\".\n",
    "\n",
    "**Example 1:**\n",
    "\n",
    "**Input:** s = \"ab\", goal = \"ba\"\n",
    "\n",
    "**Output:** true\n",
    "\n",
    "**Explanation:** You can swap s[0] = 'a' and s[1] = 'b' to get \"ba\", which is equal to goal.\n",
    "\n",
    "</aside>"
   ]
  },
  {
   "cell_type": "code",
   "execution_count": 12,
   "id": "6d6b6cba-20be-4a28-9f27-b495caf1e9ce",
   "metadata": {},
   "outputs": [
    {
     "name": "stdout",
     "output_type": "stream",
     "text": [
      "True\n"
     ]
    }
   ],
   "source": [
    "def buddyStrings(s, goal):\n",
    "    if len(s) != len(goal):\n",
    "        return False\n",
    "\n",
    "    if s == goal:\n",
    "        return len(set(s)) < len(s)\n",
    "\n",
    "    mismatch_s = []\n",
    "    mismatch_goal = []\n",
    "\n",
    "    for char_s, char_goal in zip(s, goal):\n",
    "        if char_s != char_goal:\n",
    "            mismatch_s.append(char_s)\n",
    "            mismatch_goal.append(char_goal)\n",
    "\n",
    "    return (\n",
    "        len(mismatch_s) == 2 and\n",
    "        mismatch_s[0] == mismatch_goal[1] and\n",
    "        mismatch_s[1] == mismatch_goal[0]\n",
    "    )\n",
    "\n",
    "s = \"ab\"\n",
    "goal = \"ba\"\n",
    "canSwap = buddyStrings(s, goal)\n",
    "print(canSwap)\n"
   ]
  },
  {
   "cell_type": "code",
   "execution_count": null,
   "id": "df91741c-a7e9-40ff-aead-e8bd84bade62",
   "metadata": {},
   "outputs": [],
   "source": []
  }
 ],
 "metadata": {
  "kernelspec": {
   "display_name": "Python 3 (ipykernel)",
   "language": "python",
   "name": "python3"
  },
  "language_info": {
   "codemirror_mode": {
    "name": "ipython",
    "version": 3
   },
   "file_extension": ".py",
   "mimetype": "text/x-python",
   "name": "python",
   "nbconvert_exporter": "python",
   "pygments_lexer": "ipython3",
   "version": "3.10.8"
  }
 },
 "nbformat": 4,
 "nbformat_minor": 5
}
