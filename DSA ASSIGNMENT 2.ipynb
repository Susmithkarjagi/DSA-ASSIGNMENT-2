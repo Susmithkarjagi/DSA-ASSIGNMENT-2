{
 "cells": [
  {
   "cell_type": "markdown",
   "id": "0ddd316e-0a8c-4a50-9d1a-d277841d5dca",
   "metadata": {},
   "source": [
    "# DSA Assignment 2 "
   ]
  },
  {
   "cell_type": "markdown",
   "id": "d4a497ef-002a-4e70-bec7-9c801213c03c",
   "metadata": {},
   "source": [
    "Q1) Given an integer array nums of 2n integers, group these integers into n pairs (a1, b1), (a2, b2),..., (an, bn) such that the sum of min(ai, bi) for all i is maximized. Return the maximized sum.\n",
    "\n",
    "**Example 1:**\n",
    "Input: nums = [1,4,3,2]\n",
    "Output: 4\n",
    "\n",
    "**Explanation:** All possible pairings (ignoring the ordering of elements) are:\n",
    "\n",
    "1. (1, 4), (2, 3) -> min(1, 4) + min(2, 3) = 1 + 2 = 3\n",
    "2. (1, 3), (2, 4) -> min(1, 3) + min(2, 4) = 1 + 2 = 3\n",
    "3. (1, 2), (3, 4) -> min(1, 2) + min(3, 4) = 1 + 3 = 4\n",
    "So the maximum ossible sum is 4\n"
   ]
  },
  {
   "cell_type": "markdown",
   "id": "d11ade6a-c748-4a12-9964-3ceb60f58b51",
   "metadata": {},
   "source": [
    "To solve this problem, we can follow these steps:\n",
    "\n",
    "1.Sort the given array nums in ascending order.\n",
    "2.Initialize a variable max_sum to 0, which will store the maximum sum of minimum values.\n",
    "3.Iterate over the sorted array with a step size of 2, as we want to pair each two consecutive numbers.\n",
    "4.In each iteration, add the smaller of the two numbers to max_sum.\n",
    "5.Return the value of max_sum."
   ]
  },
  {
   "cell_type": "code",
   "execution_count": 3,
   "id": "dd1919a3-c547-4b17-a73a-58f42d816b0a",
   "metadata": {},
   "outputs": [
    {
     "name": "stdout",
     "output_type": "stream",
     "text": [
      "4\n"
     ]
    }
   ],
   "source": [
    "\n",
    "def array_pair_sum(nums):\n",
    "    nums.sort()  # Sort the array in ascending order\n",
    "    max_sum = 0  # Initialize max_sum to 0\n",
    "    \n",
    "    for i in range(0, len(nums), 2):\n",
    "        max_sum += nums[i]  \n",
    "    \n",
    "    return max_sum\n",
    "\n",
    "# Example usage\n",
    "nums = [1, 4, 3, 2]\n",
    "print(array_pair_sum(nums))  \n"
   ]
  },
  {
   "cell_type": "code",
   "execution_count": null,
   "id": "4abc0d66-e858-4060-9e3e-e4b06b47caf3",
   "metadata": {},
   "outputs": [],
   "source": []
  },
  {
   "cell_type": "markdown",
   "id": "14ffb488-b916-4a91-b910-659488ca7711",
   "metadata": {},
   "source": [
    "Q2) Alice has n candies, where the ith candy is of type candyType[i]. Alice noticed that she started to gain weight, so she visited a doctor. \n",
    "\n",
    "The doctor advised Alice to only eat n / 2 of the candies she has (n is always even). Alice likes her candies very much, and she wants to eat the maximum number of different types of candies while still following the doctor's advice. \n",
    "\n",
    "Given the integer array candyType of length n, return the maximum number of different types of candies she can eat if she only eats n / 2 of them.\n",
    "\n",
    "Example 1:\n",
    "Input: candyType = [1,1,2,2,3,3]\n",
    "Output: 3\n",
    "\n",
    "Explanation: Alice can only eat 6 / 2 = 3 candies. Since there are only 3 types, she can eat one of each type."
   ]
  },
  {
   "cell_type": "markdown",
   "id": "f00e5e5c-5d55-4a11-89d6-e19ea3ba330a",
   "metadata": {},
   "source": [
    "Here's an approach to solve this problem:\n",
    "1.Initialize an empty set unique_candies to store the unique candy types.\n",
    "2.Iterate over the elements in the candyType array.\n",
    "3.Add each candy type to the unique_candies set.\n",
    "4.After the iteration, get the length of the unique_candies set, which represents the number of unique candy types.\n",
    "5.Calculate the maximum number of different types of candies Alice can eat by taking the minimum between the number of unique candy types and half of the total number of candies (len(candyType) // 2).\n",
    "6.Return the maximum number of different types of candies"
   ]
  },
  {
   "cell_type": "code",
   "execution_count": 4,
   "id": "93aae7f2-7cdc-48e1-9779-9e12b420b535",
   "metadata": {},
   "outputs": [
    {
     "name": "stdout",
     "output_type": "stream",
     "text": [
      "3\n"
     ]
    }
   ],
   "source": [
    "\n",
    "def max_num_of_different_candies(candyType):\n",
    "    unique_candies = set() \n",
    "    \n",
    "    for candy in candyType:\n",
    "        unique_candies.add(candy) \n",
    "    \n",
    "    return min(len(unique_candies), len(candyType) // 2)\n",
    "\n",
    "# Example usage\n",
    "candyType = [1, 1, 2, 2, 3, 3]\n",
    "print(max_num_of_different_candies(candyType))  \n"
   ]
  },
  {
   "cell_type": "code",
   "execution_count": null,
   "id": "15bd8234-2b17-417a-86f7-02511e9bf829",
   "metadata": {},
   "outputs": [],
   "source": []
  },
  {
   "cell_type": "markdown",
   "id": "6e189325-cbaa-4139-af02-94c6dc858138",
   "metadata": {},
   "source": [
    "Q3) We define a harmonious array as an array where the difference between its maximum value and its minimum value is exactly 1.\n",
    "\n",
    "Given an integer array nums, return the length of its longest harmonious subsequence among all its possible subsequences.\n",
    "\n",
    "A subsequence of an array is a sequence that can be derived from the array by deleting some or no elements without changing the order of the remaining elements.\n",
    "\n",
    "Example 1:\n",
    "Input: nums = [1,3,2,2,5,2,3,7]\n",
    "Output: 5\n",
    "\n",
    "Explanation: The longest harmonious subsequence is [3,2,2,2,3]."
   ]
  },
  {
   "cell_type": "markdown",
   "id": "f0efe4ee-13b0-4625-b07b-5eff562ebde8",
   "metadata": {},
   "source": [
    "To find the length of the longest harmonious subsequence in the given array nums, we can follow these steps:\n",
    "\n",
    "1.Initialize a dictionary num_counts to store the count of each number in nums.\n",
    "2.Iterate over the elements in nums and update the counts in num_counts.\n",
    "3.Initialize a variable max_length to 0, which will store the maximum length of the harmonious subsequence.\n",
    "4.Iterate over the keys in num_counts.\n",
    "5.For each key, check if its adjacent key (i.e., key + 1) exists in num_counts.\n",
    "6.If the adjacent key exists, calculate the length of the harmonious subsequence by adding the counts of the current key and the adjacent key.\n",
    "7.If the length of the harmonious subsequence is greater than max_length, update max_length.\n",
    "8.Return the value of max_length"
   ]
  },
  {
   "cell_type": "code",
   "execution_count": 6,
   "id": "ac8ae727-77f5-460a-88e3-141a7c0b62f5",
   "metadata": {},
   "outputs": [
    {
     "name": "stdout",
     "output_type": "stream",
     "text": [
      "5\n"
     ]
    }
   ],
   "source": [
    "\n",
    "def findLHS(nums):\n",
    "    num_counts = {} \n",
    "    \n",
    "    for num in nums:\n",
    "        num_counts[num] = num_counts.get(num, 0) + 1 \n",
    "    \n",
    "    max_length = 0 \n",
    "    for num in num_counts:\n",
    "        if num + 1 in num_counts:\n",
    "            length = num_counts[num] + num_counts[num + 1] \n",
    "            max_length = max(max_length, length) \n",
    "    return max_length\n",
    "\n",
    "# Example usage\n",
    "nums = [1, 3, 2, 2, 5, 2, 3, 7]\n",
    "print(findLHS(nums))  \n"
   ]
  },
  {
   "cell_type": "code",
   "execution_count": null,
   "id": "d2dc3aa2-767a-4ecb-977f-ac281d6ec20d",
   "metadata": {},
   "outputs": [],
   "source": []
  },
  {
   "cell_type": "markdown",
   "id": "090900ae-0f05-44e7-9b9a-cd99d0de83e5",
   "metadata": {},
   "source": [
    "Q4) You have a long flowerbed in which some of the plots are planted, and some are not.\n",
    "However, flowers cannot be planted in adjacent plots.\n",
    "Given an integer array flowerbed containing 0's and 1's, where 0 means empty and 1 means not empty, and an integer n, return true if n new flowers can be planted in the flowerbed without violating the no-adjacent-flowers rule and false otherwise.\n",
    "\n",
    "Example 1:\n",
    "Input: flowerbed = [1,0,0,0,1], n = 1\n",
    "Output: true"
   ]
  },
  {
   "cell_type": "markdown",
   "id": "701af9ea-7b6f-4f96-af75-c70002ec5d2e",
   "metadata": {},
   "source": [
    "To determine if n new flowers can be planted in the given flowerbed without violating the no-adjacent-flowers rule, we can follow these steps:\n",
    "\n",
    "1.Initialize a variable count to 0, which will store the number of new flowers that can be planted.\n",
    "2.Iterate over the elements in the flowerbed array.\n",
    "3.Check if the current element is 0 (indicating an empty plot) and its adjacent plots (if they exist) are also 0.\n",
    "4.If the conditions are met, increment count by 1 and set the current plot to 1 to mark it as planted.\n",
    "5.Continue iterating until count reaches n or the end of the flowerbed array is reached.\n",
    "6.Check if count is equal to n.\n",
    "7.If count is equal to n, return True as n new flowers can be planted without violating the rule.\n",
    "8.If count is less than n, return False as it is not possible to plant n new flowers without violating the rule."
   ]
  },
  {
   "cell_type": "code",
   "execution_count": 8,
   "id": "1d82d4fe-9506-43dd-8161-8637b569188d",
   "metadata": {},
   "outputs": [
    {
     "name": "stdout",
     "output_type": "stream",
     "text": [
      "True\n"
     ]
    }
   ],
   "source": [
    "\n",
    "def canPlaceFlowers(flowerbed, n):\n",
    "    count = 0  \n",
    "    length = len(flowerbed)\n",
    "    i = 0\n",
    "    \n",
    "    while i < length:\n",
    "        if flowerbed[i] == 0 and (i == 0 or flowerbed[i - 1] == 0) and (i == length - 1 or flowerbed[i + 1] == 0):\n",
    "            count += 1\n",
    "            flowerbed[i] = 1\n",
    "        i += 1\n",
    "    \n",
    "    return count >= n\n",
    "\n",
    "# Example usage\n",
    "flowerbed = [1, 0, 0, 0, 1]\n",
    "n = 1\n",
    "print(canPlaceFlowers(flowerbed, n))  "
   ]
  },
  {
   "cell_type": "code",
   "execution_count": null,
   "id": "c1117fbe-4ff0-4370-bece-6aaa877475d7",
   "metadata": {},
   "outputs": [],
   "source": []
  },
  {
   "cell_type": "markdown",
   "id": "6a6b1611-4ac4-4d90-91d1-7e7bab46060e",
   "metadata": {},
   "source": [
    "Q5) Given an integer array nums, find three numbers whose product is maximum and return the maximum product.\n",
    "\n",
    "Example 1:\n",
    "Input: nums = [1,2,3]\n",
    "Output: 6"
   ]
  },
  {
   "cell_type": "markdown",
   "id": "9ac02c22-78c2-47cc-8cfc-331ac1668d18",
   "metadata": {},
   "source": [
    "To find the maximum product of three numbers in the given array nums, we can follow these steps:\n",
    "\n",
    "1.Sort the array nums in ascending order.\n",
    "2.Calculate the product of the last three elements in the sorted array, which will give us the maximum possible product of three numbers.\n",
    "3.Calculate the product of the first two elements (the smallest values) and the last element (the largest value) in the sorted array. This is necessary to handle cases where the two smallest values are negative, which can result in a larger positive product.\n",
    "4.Return the maximum value between the two products calculated in steps 2 and 3."
   ]
  },
  {
   "cell_type": "code",
   "execution_count": 9,
   "id": "7327b5ec-c496-4d0d-94dd-235a974f758f",
   "metadata": {},
   "outputs": [
    {
     "name": "stdout",
     "output_type": "stream",
     "text": [
      "6\n"
     ]
    }
   ],
   "source": [
    "\n",
    "def maximumProduct(nums):\n",
    "    nums.sort() \n",
    "    n = len(nums)\n",
    "    return max(nums[n - 1] * nums[n - 2] * nums[n - 3], nums[0] * nums[1] * nums[n - 1])\n",
    "\n",
    "# Example usage\n",
    "nums = [1, 2, 3]\n",
    "print(maximumProduct(nums)) \n"
   ]
  },
  {
   "cell_type": "code",
   "execution_count": null,
   "id": "958f5c5e-d92a-4928-8920-8d097fab5bb2",
   "metadata": {},
   "outputs": [],
   "source": []
  },
  {
   "cell_type": "markdown",
   "id": "06579852-f20a-465a-8753-abbf0adc3ab2",
   "metadata": {},
   "source": [
    "Q6) Given an array of integers nums which is sorted in ascending order, and an integer target,\n",
    "write a function to search target in nums. If target exists, then return its index. Otherwise,\n",
    "return -1.\n",
    "\n",
    "You must write an algorithm with O(log n) runtime complexity.\n",
    "\n",
    "Input: nums = [-1,0,3,5,9,12], target = 9\n",
    "Output: 4\n",
    "\n",
    "Explanation: 9 exists in nums and its index is 4"
   ]
  },
  {
   "cell_type": "code",
   "execution_count": null,
   "id": "824ec81f-4d66-4248-9c27-9795f5ca1b5c",
   "metadata": {},
   "outputs": [],
   "source": [
    "To search for a target value in a sorted array nums with a runtime complexity of O(log n), we can use the binary search algorithm. Here's how the algorithm works:\n",
    "\n",
    "1.Initialize two pointers, left and right, which represent the start and end indices of the search range, respectively. Initially, left is set to 0 and right is set to len(nums) - 1.\n",
    "2.While left is less than or equal to right, repeat the following steps:\n",
    "Calculate the middle index as mid = (left + right) // 2.\n",
    "If the value at index mid is equal to the target, return mid as the target is found.\n",
    "If the value at index mid is greater than the target, update right = mid - 1 to search in the left half of the range.\n",
    "If the value at index mid is less than the target, update left = mid + 1 to search in the right half of the range.\n",
    "3.If the target is not found after the loop, return -1 to indicate that the target does not exist in the array."
   ]
  },
  {
   "cell_type": "code",
   "execution_count": 10,
   "id": "e42914be-45fb-4abd-a5d3-13911b36036b",
   "metadata": {},
   "outputs": [
    {
     "name": "stdout",
     "output_type": "stream",
     "text": [
      "4\n"
     ]
    }
   ],
   "source": [
    "\n",
    "def search(nums, target):\n",
    "    left = 0\n",
    "    right = len(nums) - 1\n",
    "    \n",
    "    while left <= right:\n",
    "        mid = (left + right) // 2\n",
    "        \n",
    "        if nums[mid] == target:\n",
    "            return mid\n",
    "        elif nums[mid] > target:\n",
    "            right = mid - 1\n",
    "        else:\n",
    "            left = mid + 1\n",
    "    \n",
    "    return -1\n",
    "\n",
    "# Example usage\n",
    "nums = [-1, 0, 3, 5, 9, 12]\n",
    "target = 9\n",
    "print(search(nums, target)) \n"
   ]
  },
  {
   "cell_type": "code",
   "execution_count": null,
   "id": "5b56ea8f-d6bf-4a1d-829f-aadb2f5de984",
   "metadata": {},
   "outputs": [],
   "source": []
  },
  {
   "cell_type": "markdown",
   "id": "748d11c9-e9c8-4925-b677-d873cc9603e3",
   "metadata": {},
   "source": [
    "Q7) An array is monotonic if it is either monotone increasing or monotone decreasing.\n",
    "\n",
    "An array nums is monotone increasing if for all i <= j, nums[i] <= nums[j]. An array nums is\n",
    "monotone decreasing if for all i <= j, nums[i] >= nums[j].\n",
    "\n",
    "Given an integer array nums, return true if the given array is monotonic, or false otherwise.\n",
    "\n",
    "Example 1:\n",
    "Input: nums = [1,2,2,3]\n",
    "Output: true"
   ]
  },
  {
   "cell_type": "markdown",
   "id": "c45e5992-b482-45bd-bb9a-52618e5bc0c6",
   "metadata": {},
   "source": [
    "Here's an approach to solve this problem:\n",
    "\n",
    "1.Initialize two boolean variables, isIncreasing and isDecreasing, to True.\n",
    "2.Iterate over the elements in the nums array starting from index 1.\n",
    "3.Check if the current element is greater than the previous element. If it is, update isDecreasing to False.\n",
    "4.Check if the current element is less than the previous element. If it is, update isIncreasing to False.\n",
    "5.If at any point both isIncreasing and isDecreasing become False, return False, as the array is neither monotone increasing nor monotone decreasing.\n",
    "6.After the iteration, if either isIncreasing or isDecreasing is True, return True, as the array is either monotone increasing or monotone decreasing.\n",
    "7.If none of the above conditions are met, return False."
   ]
  },
  {
   "cell_type": "code",
   "execution_count": 11,
   "id": "e2f1b925-1a36-4a9b-810f-d3802f63d6ea",
   "metadata": {},
   "outputs": [
    {
     "name": "stdout",
     "output_type": "stream",
     "text": [
      "True\n"
     ]
    }
   ],
   "source": [
    "\n",
    "def isMonotonic(nums):\n",
    "    isIncreasing = True\n",
    "    isDecreasing = True\n",
    "    \n",
    "    for i in range(1, len(nums)):\n",
    "        if nums[i] > nums[i - 1]:\n",
    "            isDecreasing = False\n",
    "        if nums[i] < nums[i - 1]:\n",
    "            isIncreasing = False\n",
    "        if not isIncreasing and not isDecreasing:\n",
    "            return False\n",
    "    \n",
    "    return isIncreasing or isDecreasing\n",
    "\n",
    "# Example usage\n",
    "nums = [1, 2, 2, 3]\n",
    "print(isMonotonic(nums)) "
   ]
  },
  {
   "cell_type": "code",
   "execution_count": null,
   "id": "6f269f5f-a4ec-4c1a-bbc5-a6d4d257ae79",
   "metadata": {},
   "outputs": [],
   "source": []
  },
  {
   "cell_type": "markdown",
   "id": "33cc5775-80d0-472a-a6d0-6c93b0acde41",
   "metadata": {},
   "source": [
    "Q8) You are given an integer array nums and an integer k.\n",
    "\n",
    "In one operation, you can choose any index i where 0 <= i < nums.length and change nums[i] to nums[i] + x where x is an integer from the range [-k, k]. You can apply this operation at most once for each index i.\n",
    "\n",
    "The score of nums is the difference between the maximum and minimum elements in nums.\n",
    "\n",
    "Return the minimum score of nums after applying the mentioned operation at most once for each index in it.\n",
    "\n",
    "Example 1:\n",
    "Input: nums = [1], k = 0\n",
    "Output: 0\n",
    "\n",
    "Explanation: The score is max(nums) - min(nums) = 1 - 1 = 0."
   ]
  },
  {
   "cell_type": "markdown",
   "id": "b26a37f1-1291-43a5-bdf4-f5ad90160e66",
   "metadata": {},
   "source": [
    "To find the minimum score of the array nums after applying the mentioned operation at most once for each index, we can follow these steps:\n",
    "\n",
    "1.Initialize two variables, min_num and max_num, to the maximum and minimum values in nums, respectively. We can set min_num to positive infinity and max_num to negative infinity initially.\n",
    "2.Iterate over the elements in nums and update min_num and max_num accordingly.\n",
    "3.If min_num is greater than max_num, set both min_num and max_num to the current element.\n",
    "4.After the iteration, calculate the difference between max_num and min_num and return it as the minimum score."
   ]
  },
  {
   "cell_type": "code",
   "execution_count": 12,
   "id": "76b49ed8-8e0a-48a9-9432-b3ec81eef9e3",
   "metadata": {},
   "outputs": [
    {
     "name": "stdout",
     "output_type": "stream",
     "text": [
      "0\n"
     ]
    }
   ],
   "source": [
    "\n",
    "def minDifference(nums, k):\n",
    "    min_num = float('inf')\n",
    "    max_num = float('-inf')\n",
    "    \n",
    "    for num in nums:\n",
    "        min_num = min(min_num, num)\n",
    "        max_num = max(max_num, num)\n",
    "        if min_num > max_num:\n",
    "            min_num = max_num = num\n",
    "    \n",
    "    return max_num - min_num\n",
    "\n",
    "# Example usage\n",
    "nums = [1]\n",
    "k = 0\n",
    "print(minDifference(nums, k))  \n"
   ]
  }
 ],
 "metadata": {
  "kernelspec": {
   "display_name": "Python 3 (ipykernel)",
   "language": "python",
   "name": "python3"
  },
  "language_info": {
   "codemirror_mode": {
    "name": "ipython",
    "version": 3
   },
   "file_extension": ".py",
   "mimetype": "text/x-python",
   "name": "python",
   "nbconvert_exporter": "python",
   "pygments_lexer": "ipython3",
   "version": "3.10.8"
  }
 },
 "nbformat": 4,
 "nbformat_minor": 5
}
