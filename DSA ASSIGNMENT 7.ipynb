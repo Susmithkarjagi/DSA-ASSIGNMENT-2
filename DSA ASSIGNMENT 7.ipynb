{
 "cells": [
  {
   "cell_type": "markdown",
   "id": "5202ee03-78db-410e-9094-0d9efe93b85a",
   "metadata": {},
   "source": [
    "# DSA ASSIGNMENT 7"
   ]
  },
  {
   "cell_type": "markdown",
   "id": "f114ff8a-a756-496b-a8ca-d9883af0c768",
   "metadata": {},
   "source": [
    "<aside>\n",
    "💡 **Question 1**\n",
    "\n",
    "Given two strings s and t, *determine if they are isomorphic*.\n",
    "\n",
    "Two strings s and t are isomorphic if the characters in s can be replaced to get t.\n",
    "\n",
    "All occurrences of a character must be replaced with another character while preserving the order of characters. No two characters may map to the same character, but a character may map to itself.\n",
    "\n",
    "**Example 1:**\n",
    "\n",
    "**Input:** s = \"egg\", t = \"add\"\n",
    "\n",
    "**Output:** true\n",
    "\n",
    "</aside>"
   ]
  },
  {
   "cell_type": "code",
   "execution_count": 2,
   "id": "49a91521-079f-4967-b564-f063776e5dda",
   "metadata": {},
   "outputs": [],
   "source": [
    "def isIsomorphic(s, t):\n",
    "    if len(s) != len(t):\n",
    "        return False\n",
    "\n",
    "    s_to_t = {}\n",
    "    t_to_s = {}\n",
    "\n",
    "    for char_s, char_t in zip(s, t):\n",
    "        if char_s not in s_to_t and char_t not in t_to_s:\n",
    "            s_to_t[char_s] = char_t\n",
    "            t_to_s[char_t] = char_s\n",
    "        elif s_to_t.get(char_s) != char_t or t_to_s.get(char_t) != char_s:\n",
    "            return False\n",
    "\n",
    "    return True\n"
   ]
  },
  {
   "cell_type": "code",
   "execution_count": 3,
   "id": "bd4d05da-7ba2-428c-89ee-04357c954026",
   "metadata": {},
   "outputs": [
    {
     "name": "stdout",
     "output_type": "stream",
     "text": [
      "True\n"
     ]
    }
   ],
   "source": [
    "s = \"egg\"\n",
    "t = \"add\"\n",
    "print(isIsomorphic(s, t))\n"
   ]
  },
  {
   "cell_type": "code",
   "execution_count": null,
   "id": "4ccfd77e-0c13-40e3-a9ff-9bb9670c7e77",
   "metadata": {},
   "outputs": [],
   "source": []
  },
  {
   "cell_type": "markdown",
   "id": "65ee4e67-c15a-4ac0-8660-e18931e61b12",
   "metadata": {},
   "source": [
    "<aside>\n",
    "💡 **Question 2**\n",
    "\n",
    "Given a string num which represents an integer, return true *if* num *is a **strobogrammatic number***.\n",
    "\n",
    "A **strobogrammatic number** is a number that looks the same when rotated 180 degrees (looked at upside down).\n",
    "\n",
    "**Example 1:**\n",
    "\n",
    "**Input:** num = \"69\"\n",
    "\n",
    "**Output:**\n",
    "\n",
    "true\n",
    "\n",
    "</aside>"
   ]
  },
  {
   "cell_type": "code",
   "execution_count": 4,
   "id": "d35a9f6e-0e00-4c99-be4f-05f889d65bc1",
   "metadata": {},
   "outputs": [],
   "source": [
    "def isStrobogrammatic(num):\n",
    "    left = 0\n",
    "    right = len(num) - 1\n",
    "\n",
    "    while left <= right:\n",
    "        if num[left] + num[right] not in [\"00\", \"11\", \"88\", \"69\", \"96\"]:\n",
    "            return False\n",
    "        left += 1\n",
    "        right -= 1\n",
    "\n",
    "    return True\n"
   ]
  },
  {
   "cell_type": "code",
   "execution_count": 5,
   "id": "ad18de45-001d-4272-9381-bc2894460542",
   "metadata": {},
   "outputs": [
    {
     "name": "stdout",
     "output_type": "stream",
     "text": [
      "True\n"
     ]
    }
   ],
   "source": [
    "num = \"69\"\n",
    "print(isStrobogrammatic(num))\n"
   ]
  },
  {
   "cell_type": "code",
   "execution_count": null,
   "id": "0d969bd4-46fa-4e4a-9c0c-b05f4350f8b6",
   "metadata": {},
   "outputs": [],
   "source": []
  },
  {
   "cell_type": "markdown",
   "id": "88eb70ea-27d3-4b6c-9ecc-18acc327a454",
   "metadata": {},
   "source": [
    "<aside>\n",
    "💡 **Question 3**\n",
    "\n",
    "Given two non-negative integers, num1 and num2 represented as string, return *the sum of* num1 *and* num2 *as a string*.\n",
    "\n",
    "You must solve the problem without using any built-in library for handling large integers (such as BigInteger). You must also not convert the inputs to integers directly.\n",
    "\n",
    "**Example 1:**\n",
    "\n",
    "**Input:** num1 = \"11\", num2 = \"123\"\n",
    "\n",
    "**Output:**\n",
    "\n",
    "\"134\"\n",
    "\n",
    "</aside>"
   ]
  },
  {
   "cell_type": "code",
   "execution_count": 6,
   "id": "4bf813ae-bd59-4310-abce-4bfd2317cd64",
   "metadata": {},
   "outputs": [],
   "source": [
    "def addStrings(num1, num2):\n",
    "    i = len(num1) - 1\n",
    "    j = len(num2) - 1\n",
    "    carry = 0\n",
    "    result = \"\"\n",
    "\n",
    "    while i >= 0 or j >= 0:\n",
    "        if i >= 0:\n",
    "            carry += int(num1[i])\n",
    "            i -= 1\n",
    "        if j >= 0:\n",
    "            carry += int(num2[j])\n",
    "            j -= 1\n",
    "\n",
    "        result += str(carry % 10)\n",
    "        carry //= 10\n",
    "\n",
    "    if carry != 0:\n",
    "        result += str(carry)\n",
    "\n",
    "    return result[::-1]\n"
   ]
  },
  {
   "cell_type": "code",
   "execution_count": 7,
   "id": "6e57d5b4-3a00-4755-8b86-f06e5f62159a",
   "metadata": {},
   "outputs": [
    {
     "name": "stdout",
     "output_type": "stream",
     "text": [
      "134\n"
     ]
    }
   ],
   "source": [
    "num1 = \"11\"\n",
    "num2 = \"123\"\n",
    "print(addStrings(num1, num2))\n"
   ]
  },
  {
   "cell_type": "code",
   "execution_count": null,
   "id": "6ae273d3-9755-4b25-b98b-2a0e749f9bce",
   "metadata": {},
   "outputs": [],
   "source": []
  },
  {
   "cell_type": "markdown",
   "id": "9b63ce5b-179d-48d0-a39a-a6fea8916814",
   "metadata": {},
   "source": [
    "<aside>\n",
    "💡 **Question 4**\n",
    "\n",
    "Given a string s, reverse the order of characters in each word within a sentence while still preserving whitespace and initial word order.\n",
    "\n",
    "**Example 1:**\n",
    "\n",
    "**Input:** s = \"Let's take LeetCode contest\"\n",
    "\n",
    "**Output:** \"s'teL ekat edoCteeL tsetnoc\"\n",
    "\n",
    "</aside>"
   ]
  },
  {
   "cell_type": "code",
   "execution_count": 8,
   "id": "f19d4697-ab61-4415-9d7d-523f796e577c",
   "metadata": {},
   "outputs": [],
   "source": [
    "def reverseWords(s):\n",
    "    words = s.split()\n",
    "    for i in range(len(words)):\n",
    "        words[i] = words[i][::-1]\n",
    "    reversed_sentence = ' '.join(words)\n",
    "    return reversed_sentence\n"
   ]
  },
  {
   "cell_type": "code",
   "execution_count": 9,
   "id": "5fd899ca-1e7a-48e2-ad34-c72d2bb89c34",
   "metadata": {},
   "outputs": [
    {
     "name": "stdout",
     "output_type": "stream",
     "text": [
      "s'teL ekat edoCteeL tsetnoc\n"
     ]
    }
   ],
   "source": [
    "s = \"Let's take LeetCode contest\"\n",
    "print(reverseWords(s))\n"
   ]
  },
  {
   "cell_type": "code",
   "execution_count": null,
   "id": "e3b8cc8b-6fb8-421d-9b84-aa598a6d6fe6",
   "metadata": {},
   "outputs": [],
   "source": []
  },
  {
   "cell_type": "markdown",
   "id": "2dc5d0a4-8ad3-4c4e-b533-f02e469b6dcb",
   "metadata": {},
   "source": [
    "<aside>\n",
    "💡 **Question 5**\n",
    "\n",
    "Given a string s and an integer k, reverse the first k characters for every 2k characters counting from the start of the string.\n",
    "\n",
    "If there are fewer than k characters left, reverse all of them. If there are less than 2k but greater than or equal to k characters, then reverse the first k characters and leave the other as original.\n",
    "\n",
    "**Example 1:**\n",
    "\n",
    "**Input:** s = \"abcdefg\", k = 2\n",
    "\n",
    "**Output:**\n",
    "\n",
    "\"bacdfeg\"\n",
    "\n",
    "</aside>"
   ]
  },
  {
   "cell_type": "code",
   "execution_count": 10,
   "id": "167416e5-1236-4b05-8ca8-749408269e5a",
   "metadata": {},
   "outputs": [],
   "source": [
    "def reverseStr(s, k):\n",
    "    s = list(s)\n",
    "    i = 0\n",
    "\n",
    "    while i < len(s):\n",
    "        s[i:i + k] = reversed(s[i:i + k])\n",
    "        i += 2 * k\n",
    "\n",
    "    return ''.join(s)\n"
   ]
  },
  {
   "cell_type": "code",
   "execution_count": 11,
   "id": "8f50a80c-6fa7-4914-8c22-994bef2a2439",
   "metadata": {},
   "outputs": [
    {
     "name": "stdout",
     "output_type": "stream",
     "text": [
      "bacdfeg\n"
     ]
    }
   ],
   "source": [
    "s = \"abcdefg\"\n",
    "k = 2\n",
    "print(reverseStr(s, k))\n"
   ]
  },
  {
   "cell_type": "code",
   "execution_count": null,
   "id": "a3b8ccd5-2101-411f-b528-a154c5674220",
   "metadata": {},
   "outputs": [],
   "source": []
  },
  {
   "cell_type": "markdown",
   "id": "e9808d53-ab53-43b0-80e3-c4118ab460f4",
   "metadata": {},
   "source": [
    "<aside>\n",
    "💡 **Question 6**\n",
    "\n",
    "Given two strings s and goal, return true *if and only if* s *can become* goal *after some number of **shifts** on* s.\n",
    "\n",
    "A **shift** on s consists of moving the leftmost character of s to the rightmost position.\n",
    "\n",
    "- For example, if s = \"abcde\", then it will be \"bcdea\" after one shift.\n",
    "\n",
    "**Example 1:**\n",
    "\n",
    "**Input:** s = \"abcde\", goal = \"cdeab\"\n",
    "\n",
    "**Output:**\n",
    "\n",
    "true\n",
    "\n",
    "</aside>"
   ]
  },
  {
   "cell_type": "code",
   "execution_count": 12,
   "id": "e4460762-5d94-4e3c-9bf9-b65b410ecac5",
   "metadata": {},
   "outputs": [],
   "source": [
    "def rotateString(s, goal):\n",
    "    if len(s) != len(goal):\n",
    "        return False\n",
    "\n",
    "    s_concat = s + s\n",
    "\n",
    "    if goal in s_concat:\n",
    "        return True\n",
    "    else:\n",
    "        return False\n"
   ]
  },
  {
   "cell_type": "code",
   "execution_count": 13,
   "id": "76a16ef5-535c-4fde-8f95-fef39a1f4f97",
   "metadata": {},
   "outputs": [
    {
     "name": "stdout",
     "output_type": "stream",
     "text": [
      "True\n"
     ]
    }
   ],
   "source": [
    "s = \"abcde\"\n",
    "goal = \"cdeab\"\n",
    "print(rotateString(s, goal))\n"
   ]
  },
  {
   "cell_type": "code",
   "execution_count": null,
   "id": "7b081139-450e-4e3c-914b-77e95be10e2c",
   "metadata": {},
   "outputs": [],
   "source": []
  },
  {
   "cell_type": "markdown",
   "id": "8d24173b-66e2-4f35-a382-3051de849c3f",
   "metadata": {},
   "source": [
    "<aside>\n",
    "💡 **Question 7**\n",
    "\n",
    "Given two strings s and t, return true *if they are equal when both are typed into empty text editors*. '#' means a backspace character.\n",
    "\n",
    "Note that after backspacing an empty text, the text will continue empty.\n",
    "\n",
    "**Example 1:**\n",
    "\n",
    "**Input:** s = \"ab#c\", t = \"ad#c\"\n",
    "\n",
    "**Output:** true\n",
    "\n",
    "**Explanation:**\n",
    "\n",
    "Both s and t become \"ac\".\n",
    "\n",
    "</aside>"
   ]
  },
  {
   "cell_type": "code",
   "execution_count": 14,
   "id": "b362057d-357b-4f59-a0ac-c70c28db30c8",
   "metadata": {
    "tags": []
   },
   "outputs": [],
   "source": [
    "def processString(s):\n",
    "    processed = []\n",
    "    for ch in s:\n",
    "        if ch != '#':\n",
    "            processed.append(ch)\n",
    "        elif processed:\n",
    "            processed.pop()\n",
    "    return ''.join(processed)\n",
    "\n",
    "def backspaceCompare(s, t):\n",
    "    processed_s = processString(s)\n",
    "    processed_t = processString(t)\n",
    "    return processed_s == processed_t\n"
   ]
  },
  {
   "cell_type": "code",
   "execution_count": 15,
   "id": "50af4d50-8d43-4a9e-b600-b28017424793",
   "metadata": {},
   "outputs": [
    {
     "name": "stdout",
     "output_type": "stream",
     "text": [
      "True\n"
     ]
    }
   ],
   "source": [
    "s = \"ab#c\"\n",
    "t = \"ad#c\"\n",
    "print(backspaceCompare(s, t))\n"
   ]
  },
  {
   "cell_type": "code",
   "execution_count": null,
   "id": "23dd8868-8be4-470d-9611-30f5f89a58f9",
   "metadata": {},
   "outputs": [],
   "source": []
  },
  {
   "cell_type": "markdown",
   "id": "ef3eae8f-6e14-4dd3-b47b-22a82ade0439",
   "metadata": {},
   "source": [
    "<aside>\n",
    "💡 **Question 8**\n",
    "\n",
    "You are given an array coordinates, coordinates[i] = [x, y], where [x, y] represents the coordinate of a point. Check if these points make a straight line in the XY plane.\n",
    "\n",
    "</aside>"
   ]
  },
  {
   "cell_type": "markdown",
   "id": "5d398712-ee46-452c-ab53-e643b4025231",
   "metadata": {},
   "source": [
    "**Input:** coordinates = [[1,2],[2,3],[3,4],[4,5],[5,6],[6,7]]\n",
    "\n",
    "**Output:** true"
   ]
  },
  {
   "cell_type": "code",
   "execution_count": 16,
   "id": "a8e2abe5-c7b4-4063-a9be-dd735e0694d4",
   "metadata": {},
   "outputs": [
    {
     "name": "stdout",
     "output_type": "stream",
     "text": [
      "True\n"
     ]
    }
   ],
   "source": [
    "def checkStraightLine(coordinates):\n",
    "    x1, y1 = coordinates[0]\n",
    "    x2, y2 = coordinates[1]\n",
    "\n",
    "    for i in range(2, len(coordinates)):\n",
    "        x, y = coordinates[i]\n",
    "        if (y2 - y1) * (x - x1) != (y - y1) * (x2 - x1):\n",
    "            return False\n",
    "\n",
    "    return True\n",
    "\n",
    "coordinates = [[1, 2], [2, 3], [3, 4], [4, 5], [5, 6], [6, 7]]\n",
    "print(checkStraightLine(coordinates))\n"
   ]
  },
  {
   "cell_type": "code",
   "execution_count": null,
   "id": "4372ee89-1426-4199-827d-32881978cff1",
   "metadata": {},
   "outputs": [],
   "source": []
  }
 ],
 "metadata": {
  "kernelspec": {
   "display_name": "Python 3 (ipykernel)",
   "language": "python",
   "name": "python3"
  },
  "language_info": {
   "codemirror_mode": {
    "name": "ipython",
    "version": 3
   },
   "file_extension": ".py",
   "mimetype": "text/x-python",
   "name": "python",
   "nbconvert_exporter": "python",
   "pygments_lexer": "ipython3",
   "version": "3.10.8"
  }
 },
 "nbformat": 4,
 "nbformat_minor": 5
}
