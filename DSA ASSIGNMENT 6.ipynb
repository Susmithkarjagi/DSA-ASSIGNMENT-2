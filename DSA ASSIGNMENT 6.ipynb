{
 "cells": [
  {
   "cell_type": "markdown",
   "id": "59bc1603-3a1d-4440-b6c1-8396c1bb3e4f",
   "metadata": {},
   "source": [
    "# DSA ASSIGNMENT 6\n"
   ]
  },
  {
   "cell_type": "markdown",
   "id": "768e866d-6111-429f-b969-55950c7437eb",
   "metadata": {},
   "source": [
    "**Question 1**\n",
    "\n",
    "A permutation perm of n + 1 integers of all the integers in the range [0, n] can be represented as a string s of length n where:\n",
    "\n",
    "- s[i] == 'I' if perm[i] < perm[i + 1], and\n",
    "- s[i] == 'D' if perm[i] > perm[i + 1].\n",
    "\n",
    "Given a string s, reconstruct the permutation perm and return it. If there are multiple valid permutations perm, return **any of them**.\n",
    "\n",
    "**Example 1:**\n",
    "**Input:** s = \"IDID\"\n",
    "**Output:**\n",
    "[0,4,1,3,2]\n"
   ]
  },
  {
   "cell_type": "code",
   "execution_count": 1,
   "id": "104d04d0-b4b9-4360-8f90-25213b940299",
   "metadata": {},
   "outputs": [
    {
     "name": "stdout",
     "output_type": "stream",
     "text": [
      "[0, 4, 1, 3, 2]\n"
     ]
    }
   ],
   "source": [
    "# ANSWER :\n",
    "def reconstruct_permutation(s):\n",
    "    n = len(s)\n",
    "    perm = []\n",
    "    current_max = 0\n",
    "    current_min = n\n",
    "\n",
    "    for c in s:\n",
    "        if c == 'I':\n",
    "            perm.append(current_max)\n",
    "            current_max += 1\n",
    "        elif c == 'D':\n",
    "            perm.append(current_min)\n",
    "            current_min -= 1\n",
    "    \n",
    "    perm.append(current_max if s[-1] == 'I' else current_min)\n",
    "    \n",
    "    return perm\n",
    "\n",
    "s = \"IDID\"\n",
    "print(reconstruct_permutation(s))\n",
    "\n"
   ]
  },
  {
   "cell_type": "code",
   "execution_count": null,
   "id": "c2f91a93-0246-4b20-8d82-6098bb25fd28",
   "metadata": {},
   "outputs": [],
   "source": []
  },
  {
   "cell_type": "markdown",
   "id": "c5bd12a4-368d-4ba7-8a53-ff33885006e1",
   "metadata": {},
   "source": [
    " **Question 2**\n",
    "\n",
    "You are given an m x n integer matrix matrix with the following two properties:\n",
    "\n",
    "- Each row is sorted in non-decreasing order.\n",
    "- The first integer of each row is greater than the last integer of the previous row.\n",
    "\n",
    "Given an integer target, return true *if* target *is in* matrix *or* false *otherwise*.\n",
    "\n",
    "You must write a solution in O(log(m * n)) time complexity.\n",
    "\n",
    "**Example 1:**\n",
    "**Input:** matrix = [[1,3,5,7],[10,11,16,20],[23,30,34,60]], target = 3\n",
    "**Output:** true\n"
   ]
  },
  {
   "cell_type": "code",
   "execution_count": 12,
   "id": "f8f00b25-8527-4a88-b634-31dcfe1948bc",
   "metadata": {},
   "outputs": [
    {
     "name": "stdout",
     "output_type": "stream",
     "text": [
      "True\n"
     ]
    }
   ],
   "source": [
    "# ANSWER :\n",
    "def searchMatrix(matrix, target):\n",
    "    if not matrix or len(matrix) == 0:\n",
    "        return False\n",
    "    \n",
    "    rows = len(matrix)\n",
    "    cols = len(matrix[0])\n",
    "    low = 0\n",
    "    high = rows * cols - 1\n",
    "    \n",
    "    while low <= high:\n",
    "        mid = (low + high) // 2\n",
    "        row = mid // cols\n",
    "        col = mid % cols\n",
    "        \n",
    "        if matrix[row][col] == target:\n",
    "            return True\n",
    "        elif matrix[row][col] < target:\n",
    "            low = mid + 1\n",
    "        else:\n",
    "            high = mid - 1\n",
    "    \n",
    "    return False\n",
    "\n",
    "matrix = [[1,3,5,7],[10,11,16,20],[23,30,34,60]]\n",
    "target = 3\n",
    "print(searchMatrix(matrix, target))\n"
   ]
  },
  {
   "cell_type": "code",
   "execution_count": null,
   "id": "f8445c15-fcbb-491a-b08d-edff44d6ea79",
   "metadata": {},
   "outputs": [],
   "source": []
  },
  {
   "cell_type": "markdown",
   "id": "c31afd0b-494f-454b-8dde-8ca1b9a2d55d",
   "metadata": {},
   "source": [
    " **Question 3**\n",
    "\n",
    "Given an array of integers arr, return *true if and only if it is a valid mountain array*.\n",
    "\n",
    "Recall that arr is a mountain array if and only if:\n",
    "\n",
    "- arr.length >= 3\n",
    "- There exists some i with 0 < i < arr.length - 1 such that:\n",
    "    - arr[0] < arr[1] < ... < arr[i - 1] < arr[i]\n",
    "    - arr[i] > arr[i + 1] > ... > arr[arr.length - 1]\n",
    "\n",
    "**Example 1:**\n",
    "**Input:** arr = [2,1]\n",
    "**Output:false"
   ]
  },
  {
   "cell_type": "code",
   "execution_count": 5,
   "id": "465776ba-c9ea-4473-9902-514de7843e97",
   "metadata": {},
   "outputs": [
    {
     "name": "stdout",
     "output_type": "stream",
     "text": [
      "False\n"
     ]
    }
   ],
   "source": [
    "# ANSWER :\n",
    "def validMountainArray(arr):\n",
    "    n = len(arr)\n",
    "    if n < 3:\n",
    "        return False\n",
    "    \n",
    "    i = 1\n",
    "    while i < n and arr[i] > arr[i-1]:\n",
    "        i += 1\n",
    "    \n",
    "    if i == 1 or i == n:\n",
    "        return False\n",
    "    \n",
    "    while i < n and arr[i] < arr[i-1]:\n",
    "        i += 1\n",
    "    \n",
    "    return i == n\n",
    "\n",
    "arr = [2, 1]\n",
    "print(validMountainArray(arr))\n"
   ]
  },
  {
   "cell_type": "code",
   "execution_count": null,
   "id": "97e561ae-2afa-460b-ba84-893239478c89",
   "metadata": {},
   "outputs": [],
   "source": []
  },
  {
   "cell_type": "markdown",
   "id": "e21287f8-0992-4a0f-a1af-581e3ba1237f",
   "metadata": {},
   "source": [
    "**Question 4**\n",
    "\n",
    "Given a binary array nums, return *the maximum length of a contiguous subarray with an equal number of* 0 *and* 1.\n",
    "\n",
    "**Example 1:**\n",
    "\n",
    "**Input:** nums = [0,1]\n",
    "\n",
    "**Output:** 2\n",
    "\n",
    "**Explanation:**\n",
    "\n",
    "[0, 1] is the longest contiguous subarray with an equal number of 0 and 1.\n"
   ]
  },
  {
   "cell_type": "code",
   "execution_count": 6,
   "id": "d6740d97-fe83-4803-bd4f-f1e8522b0f54",
   "metadata": {},
   "outputs": [
    {
     "name": "stdout",
     "output_type": "stream",
     "text": [
      "2\n"
     ]
    }
   ],
   "source": [
    "# ANSWER :\n",
    "def findMaxLength(nums):\n",
    "    count_dict = {0: -1}\n",
    "    count = 0\n",
    "    max_length = 0\n",
    "\n",
    "    for i, num in enumerate(nums):\n",
    "        count += 1 if num == 1 else -1\n",
    "\n",
    "        if count in count_dict:\n",
    "            max_length = max(max_length, i - count_dict[count])\n",
    "        else:\n",
    "            count_dict[count] = i\n",
    "\n",
    "    return max_length\n",
    "\n",
    "nums = [0, 1]\n",
    "print(findMaxLength(nums))\n"
   ]
  },
  {
   "cell_type": "code",
   "execution_count": null,
   "id": "500e2a06-0a7a-422b-842f-9fa0a9544cef",
   "metadata": {},
   "outputs": [],
   "source": []
  },
  {
   "cell_type": "markdown",
   "id": "29199267-99c5-4f28-acf1-2c06574c4376",
   "metadata": {},
   "source": [
    " **Question 5**\n",
    "\n",
    "The **product sum** of two equal-length arrays a and b is equal to the sum of a[i] * b[i] for all 0 <= i < a.length (**0-indexed**).\n",
    "- For example, if a = [1,2,3,4] and b = [5,2,3,1], the **product sum** would be 1*5 + 2*2 + 3*3 + 4*1 = 22.\n",
    "\n",
    "Given two arrays nums1 and nums2 of length n, return *the **minimum product sum** if you are allowed to **rearrange** the **order** of the elements in* nums1.\n",
    "**Example 1:**\n",
    "**Input:** nums1 = [5,3,4,2], nums2 = [4,2,2,5]\n",
    "**Output: 40\n",
    "**Explanation:**\n",
    "\n",
    "We can rearrange nums1 to become [3,5,4,2]. The product sum of [3,5,4,2] and [4,2,2,5] is 3*4 + 5*2 + 4*2 + 2*5 = 40.\n"
   ]
  },
  {
   "cell_type": "code",
   "execution_count": 7,
   "id": "2cf71b55-915d-44c4-b939-8d4b2af1acc8",
   "metadata": {},
   "outputs": [
    {
     "name": "stdout",
     "output_type": "stream",
     "text": [
      "40\n"
     ]
    }
   ],
   "source": [
    "# ANSWER :\n",
    "def minProductSum(nums1, nums2):\n",
    "    nums1.sort()\n",
    "    nums2.sort()\n",
    "    \n",
    "    min_product_sum = 0\n",
    "    \n",
    "    for i in range(len(nums1)):\n",
    "        min_product_sum += nums1[i] * nums2[len(nums2) - i - 1]\n",
    "    \n",
    "    return min_product_sum\n",
    "\n",
    "nums1 = [5, 3, 4, 2]\n",
    "nums2 = [4, 2, 2, 5]\n",
    "print(minProductSum(nums1, nums2))\n"
   ]
  },
  {
   "cell_type": "code",
   "execution_count": null,
   "id": "52be3f76-b943-4cc9-84ea-39f6ddfcf480",
   "metadata": {},
   "outputs": [],
   "source": []
  },
  {
   "cell_type": "markdown",
   "id": "c90492f5-caab-4402-9457-14017e6589df",
   "metadata": {},
   "source": [
    " **Question 6**\n",
    "\n",
    "An integer array original is transformed into a **doubled** array changed by appending **twice the value** of every element in original, and then randomly **shuffling** the resulting array.\n",
    "\n",
    "Given an array changed, return original *if* changed *is a **doubled** array. If* changed *is not a **doubled** array, return an empty array. The elements in* original *may be returned in **any** order*.\n",
    "\n",
    "**Example 1:**\n",
    "\n",
    "**Input:** changed = [1,3,4,2,6,8]\n",
    "\n",
    "**Output: [1,3,4]\n",
    "\n",
    "**Explanation:** One possible original array could be [1,3,4]:\n",
    "\n",
    "- Twice the value of 1 is 1 * 2 = 2.\n",
    "- Twice the value of 3 is 3 * 2 = 6.\n",
    "- Twice the value of 4 is 4 * 2 = 8.\n",
    "Other original arrays could be [4,3,1] or [3,1,4].\n"
   ]
  },
  {
   "cell_type": "code",
   "execution_count": 9,
   "id": "38db746f-444c-4e7b-b325-3f27a43eb604",
   "metadata": {},
   "outputs": [
    {
     "name": "stdout",
     "output_type": "stream",
     "text": [
      "[1, 3, 4]\n"
     ]
    }
   ],
   "source": [
    "# ANSWER :\n",
    "from collections import defaultdict\n",
    "\n",
    "def findOriginalArray(changed):\n",
    "    if len(changed) % 2 != 0:\n",
    "        return []  # The array cannot be doubled if it has an odd number of elements\n",
    "\n",
    "    freq = defaultdict(int)\n",
    "    for num in changed:\n",
    "        freq[num] += 1\n",
    "\n",
    "    changed.sort()\n",
    "\n",
    "    original = []\n",
    "    for num in changed:\n",
    "        if freq[num] > 0:\n",
    "            double = num * 2\n",
    "            if double not in freq or freq[double] == 0:\n",
    "                return []  # The array is not doubled\n",
    "\n",
    "            original.append(num)\n",
    "            freq[num] -= 1\n",
    "            freq[double] -= 1\n",
    "\n",
    "    return original\n",
    "changed = [1, 3, 4, 2, 6, 8]\n",
    "original = findOriginalArray(changed)\n",
    "print(original)\n"
   ]
  },
  {
   "cell_type": "code",
   "execution_count": null,
   "id": "4764c7eb-0412-45b8-b512-4656755eb036",
   "metadata": {},
   "outputs": [],
   "source": []
  },
  {
   "cell_type": "markdown",
   "id": "085dd04f-9aa1-4240-99d8-b5f68ea673ee",
   "metadata": {},
   "source": [
    " **Question 7**\n",
    "\n",
    "Given a positive integer n, generate an n x n matrix filled with elements from 1 to n2 in spiral order.\n",
    "\n",
    "**Example 1:**\n",
    "**Input:** n = 3\n",
    "\n",
    "**Output:** [[1,2,3],[8,9,4],[7,6,5]]"
   ]
  },
  {
   "cell_type": "code",
   "execution_count": 10,
   "id": "0ca97ac5-2255-462b-bf5d-adef5bbf4271",
   "metadata": {},
   "outputs": [
    {
     "name": "stdout",
     "output_type": "stream",
     "text": [
      "[[1, 2, 3], [8, 9, 4], [7, 6, 5]]\n"
     ]
    }
   ],
   "source": [
    "# ANSWER :\n",
    "def generateMatrix(n):\n",
    "    matrix = [[0] * n for _ in range(n)]\n",
    "    num = 1\n",
    "    row_start, row_end = 0, n - 1\n",
    "    col_start, col_end = 0, n - 1\n",
    "\n",
    "    while num <= n * n:\n",
    "        # Fill top row\n",
    "        for col in range(col_start, col_end + 1):\n",
    "            matrix[row_start][col] = num\n",
    "            num += 1\n",
    "        row_start += 1\n",
    "\n",
    "        # Fill right column\n",
    "        for row in range(row_start, row_end + 1):\n",
    "            matrix[row][col_end] = num\n",
    "            num += 1\n",
    "        col_end -= 1\n",
    "\n",
    "        # Fill bottom row\n",
    "        for col in range(col_end, col_start - 1, -1):\n",
    "            matrix[row_end][col] = num\n",
    "            num += 1\n",
    "        row_end -= 1\n",
    "\n",
    "        # Fill left column\n",
    "        for row in range(row_end, row_start - 1, -1):\n",
    "            matrix[row][col_start] = num\n",
    "            num += 1\n",
    "        col_start += 1\n",
    "\n",
    "    return matrix\n",
    "\n",
    "n = 3\n",
    "print(generateMatrix(n))\n",
    "\n"
   ]
  },
  {
   "cell_type": "code",
   "execution_count": null,
   "id": "ce78a533-f818-4b6d-8d65-391fe8965949",
   "metadata": {},
   "outputs": [],
   "source": []
  },
  {
   "cell_type": "markdown",
   "id": "7750cc95-2f4b-4fa2-b9ec-549b702819ca",
   "metadata": {},
   "source": [
    "**Question 8**\n",
    "\n",
    "Given two [sparse matrices](https://en.wikipedia.org/wiki/Sparse_matrix) mat1 of size m x k and mat2 of size k x n, return the result of mat1 x mat2. You may assume that multiplication is always possible.\n",
    "\n",
    "**Example 1:**\n",
    "**Input:** mat1 = [[1,0,0],[-1,0,3]], mat2 = [[7,0,0],[0,0,0],[0,0,1]]\n",
    "\n",
    "**Output:**\n",
    "\n",
    "[[7,0,0],[-7,0,3]]"
   ]
  },
  {
   "cell_type": "code",
   "execution_count": 11,
   "id": "a1b06c5c-935f-453c-89f2-de3cc51392a5",
   "metadata": {},
   "outputs": [
    {
     "name": "stdout",
     "output_type": "stream",
     "text": [
      "[[7, 0, 0], [-7, 0, 3]]\n"
     ]
    }
   ],
   "source": [
    "# ANSWER :\n",
    "def multiply(mat1, mat2):\n",
    "    m, k, n = len(mat1), len(mat1[0]), len(mat2[0])\n",
    "    result = [[0] * n for _ in range(m)]\n",
    "\n",
    "    for i in range(m):\n",
    "        for j in range(n):\n",
    "            # Compute the dot product of row i in mat1 and column j in mat2\n",
    "            for p in range(k):\n",
    "                result[i][j] += mat1[i][p] * mat2[p][j]\n",
    "\n",
    "    return result\n",
    "\n",
    "mat1 = [[1, 0, 0], [-1, 0, 3]]\n",
    "mat2 = [[7, 0, 0], [0, 0, 0], [0, 0, 1]]\n",
    "print(multiply(mat1, mat2))\n"
   ]
  },
  {
   "cell_type": "code",
   "execution_count": null,
   "id": "7fdfccd3-9797-42fb-b8e1-00a67c798b4a",
   "metadata": {},
   "outputs": [],
   "source": []
  }
 ],
 "metadata": {
  "kernelspec": {
   "display_name": "Python 3 (ipykernel)",
   "language": "python",
   "name": "python3"
  },
  "language_info": {
   "codemirror_mode": {
    "name": "ipython",
    "version": 3
   },
   "file_extension": ".py",
   "mimetype": "text/x-python",
   "name": "python",
   "nbconvert_exporter": "python",
   "pygments_lexer": "ipython3",
   "version": "3.10.8"
  }
 },
 "nbformat": 4,
 "nbformat_minor": 5
}
